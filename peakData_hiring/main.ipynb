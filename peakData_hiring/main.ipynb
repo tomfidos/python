{
 "cells": [
  {
   "cell_type": "code",
   "execution_count": 28,
   "id": "f0a9ca35-58e0-4137-bb0c-62206ae3fc6f",
   "metadata": {},
   "outputs": [
    {
     "data": {
      "text/plain": [
       "'\\nCode for a script that gets publications data from a source csv, drop unneeded columns,\\ntransform data so as it can be manipulated and create a dataframe with unique authors.\\n'"
      ]
     },
     "execution_count": 28,
     "metadata": {},
     "output_type": "execute_result"
    }
   ],
   "source": [
    "\"\"\"\n",
    "Code for a script that gets publications data from a source csv, drop unneeded columns,\n",
    "transform data so as it can be manipulated and create a dataframe with unique authors.\n",
    "\"\"\""
   ]
  },
  {
   "cell_type": "code",
   "execution_count": 29,
   "id": "1c91efef-70c3-4364-af39-b0a56c18dbe8",
   "metadata": {},
   "outputs": [],
   "source": [
    "import pandas as pd"
   ]
  },
  {
   "cell_type": "code",
   "execution_count": 30,
   "id": "0fe6ff96-5f0f-4e52-9408-bc5c4a693952",
   "metadata": {},
   "outputs": [],
   "source": [
    "def get_list_last_elements(name_list):\n",
    "    if len(name_list) == 2:\n",
    "        return name_list[1]\n",
    "    # If an author has got a middle name a condition == 3 would be sufficient.\n",
    "    # However, in case he's got a surname consiting of two names (like happens in Spanish-speaking\n",
    "    # countries) use a condition > 2 and a right-opened index.\n",
    "    elif len(name_list) > 2:\n",
    "        return \" \".join(name_list[2:])\n",
    "    # The below shouldn't happen unless there's no author provided at all or with just one name.\n",
    "    # For the needs of this MVP return an empty string to avoid breaking the code later on.\n",
    "    else:\n",
    "        return \"\""
   ]
  },
  {
   "cell_type": "code",
   "execution_count": 31,
   "id": "fc0af6d8-ea2a-4803-af71-fda755a0ccd6",
   "metadata": {
    "tags": []
   },
   "outputs": [],
   "source": [
    "# Convert to Series while import the data as we operate on one column anyway\n",
    "authors_per_publication = pd.read_csv(\"publications_min.csv\", usecols=[\"authors\"], squeeze=True)"
   ]
  },
  {
   "cell_type": "code",
   "execution_count": 32,
   "id": "e271764f-f9da-4038-b044-6a34d57de61f",
   "metadata": {},
   "outputs": [],
   "source": [
    "# Make sure there're no number typed values\n",
    "authors_wo_digits = authors_per_publication.astype(str)\n",
    "# Convert list strings to real lists\n",
    "authors_destringified = authors_wo_digits.apply(lambda x: x.strip(\"][\").split(\", \"))\n",
    "# Get all names from the lists\n",
    "all_authors = authors_destringified.explode()"
   ]
  },
  {
   "cell_type": "code",
   "execution_count": 33,
   "id": "646e5aa6-b4a4-4dd3-9d48-d0b257a72f67",
   "metadata": {
    "tags": []
   },
   "outputs": [],
   "source": [
    "# Normalize name -> all to lower case\n",
    "all_authors.str.lower()\n",
    "# Convert strings to lists again so as we can put middle names aside in a separate Series variable.\n",
    "all_authors_names = all_authors.apply(lambda x: x[1:-1].split(\" \"))\n",
    "# Also get a separate Series for first & last names.\n",
    "# For this MVP we leave middle names out of consideration.\n",
    "first_names = all_authors_names.apply(lambda x: x[0])\n",
    "last_names = all_authors_names.apply(get_list_last_elements)"
   ]
  },
  {
   "cell_type": "code",
   "execution_count": 34,
   "id": "25bf7d0e-06a3-4710-9250-7eda317cac31",
   "metadata": {},
   "outputs": [],
   "source": [
    "# Convert both Series to a dataframe and deduplicate it per last names.\n",
    "first_last_names_df = pd.concat([first_names, last_names], axis=1, ignore_index=True)\n",
    "first_last_names_df.rename(columns={0: \"firstname\", 1: \"lastname\"}, inplace=True)\n",
    "unique_authors = first_last_names_df.drop_duplicates()\n",
    "unique_authors = unique_authors.reset_index(drop=True)"
   ]
  },
  {
   "cell_type": "code",
   "execution_count": 35,
   "id": "a97e9177-4270-4558-aa42-6512b07b9acc",
   "metadata": {},
   "outputs": [],
   "source": [
    "unique_authors.to_csv(\"unique_people.csv\", index=False)"
   ]
  }
 ],
 "metadata": {
  "kernelspec": {
   "display_name": "Python 3 (ipykernel)",
   "language": "python",
   "name": "python3"
  },
  "language_info": {
   "codemirror_mode": {
    "name": "ipython",
    "version": 3
   },
   "file_extension": ".py",
   "mimetype": "text/x-python",
   "name": "python",
   "nbconvert_exporter": "python",
   "pygments_lexer": "ipython3",
   "version": "3.9.7"
  }
 },
 "nbformat": 4,
 "nbformat_minor": 5
}
